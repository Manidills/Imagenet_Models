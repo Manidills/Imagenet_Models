{
  "nbformat": 4,
  "nbformat_minor": 0,
  "metadata": {
    "colab": {
      "name": "Imagenet models",
      "provenance": [],
      "collapsed_sections": []
    },
    "kernelspec": {
      "name": "python3",
      "display_name": "Python 3"
    },
    "accelerator": "TPU"
  },
  "cells": [
    {
      "cell_type": "code",
      "metadata": {
        "id": "T6cUDGKEA11T",
        "colab_type": "code",
        "colab": {}
      },
      "source": [
        "from keras.applications import ResNet50\n",
        "from keras.applications import InceptionV3\n",
        "from keras.applications import Xception # TensorFlow ONLY\n",
        "from keras.applications import VGG16\n",
        "from keras.applications import VGG19\n",
        "from keras.applications import imagenet_utils\n",
        "from keras.applications.inception_v3 import preprocess_input\n",
        "from keras.preprocessing.image import img_to_array\n",
        "from keras.preprocessing.image import load_img\n",
        "import numpy as np\n",
        "import argparse\n",
        "import cv2\n",
        "import matplotlib.pyplot as plt\n",
        "%matplotlib inline"
      ],
      "execution_count": 0,
      "outputs": []
    },
    {
      "cell_type": "code",
      "metadata": {
        "id": "gpr5l4F_BVP3",
        "colab_type": "code",
        "colab": {}
      },
      "source": [
        "MODELS = {\n",
        "\t\"vgg16\": VGG16,\n",
        "\t\"vgg19\": VGG19,\n",
        "\t\"inception\": InceptionV3,\n",
        "\t\"xception\": Xception, # TensorFlow ONLY\n",
        "\t\"resnet\": ResNet50\n",
        "}"
      ],
      "execution_count": 0,
      "outputs": []
    },
    {
      "cell_type": "code",
      "metadata": {
        "id": "MeFUBmjUBl0n",
        "colab_type": "code",
        "colab": {}
      },
      "source": [
        "inputShape = (224, 224)\n",
        "preprocess = imagenet_utils.preprocess_input\n"
      ],
      "execution_count": 0,
      "outputs": []
    },
    {
      "cell_type": "code",
      "metadata": {
        "id": "uAwf9kujBzgC",
        "colab_type": "code",
        "colab": {
          "base_uri": "https://localhost:8080/",
          "height": 436
        },
        "outputId": "37d61445-3bc2-4678-9b16-81b5cbccc3bb"
      },
      "source": [
        "print(\"[INFO] loading {}...\".format(\"vgg16\"))\n",
        "Network = MODELS[\"vgg16\"]\n",
        "model = Network(weights=\"imagenet\")\n",
        "\n"
      ],
      "execution_count": 9,
      "outputs": [
        {
          "output_type": "stream",
          "text": [
            "[INFO] loading vgg16...\n",
            "WARNING:tensorflow:From /usr/local/lib/python3.6/dist-packages/keras/backend/tensorflow_backend.py:66: The name tf.get_default_graph is deprecated. Please use tf.compat.v1.get_default_graph instead.\n",
            "\n",
            "WARNING:tensorflow:From /usr/local/lib/python3.6/dist-packages/keras/backend/tensorflow_backend.py:541: The name tf.placeholder is deprecated. Please use tf.compat.v1.placeholder instead.\n",
            "\n",
            "WARNING:tensorflow:From /usr/local/lib/python3.6/dist-packages/keras/backend/tensorflow_backend.py:4432: The name tf.random_uniform is deprecated. Please use tf.random.uniform instead.\n",
            "\n",
            "WARNING:tensorflow:From /usr/local/lib/python3.6/dist-packages/keras/backend/tensorflow_backend.py:4267: The name tf.nn.max_pool is deprecated. Please use tf.nn.max_pool2d instead.\n",
            "\n",
            "Downloading data from https://github.com/fchollet/deep-learning-models/releases/download/v0.1/vgg16_weights_tf_dim_ordering_tf_kernels.h5\n",
            "553467904/553467096 [==============================] - 6s 0us/step\n",
            "WARNING:tensorflow:From /usr/local/lib/python3.6/dist-packages/keras/backend/tensorflow_backend.py:190: The name tf.get_default_session is deprecated. Please use tf.compat.v1.get_default_session instead.\n",
            "\n",
            "WARNING:tensorflow:From /usr/local/lib/python3.6/dist-packages/keras/backend/tensorflow_backend.py:197: The name tf.ConfigProto is deprecated. Please use tf.compat.v1.ConfigProto instead.\n",
            "\n",
            "WARNING:tensorflow:From /usr/local/lib/python3.6/dist-packages/keras/backend/tensorflow_backend.py:203: The name tf.Session is deprecated. Please use tf.compat.v1.Session instead.\n",
            "\n",
            "WARNING:tensorflow:From /usr/local/lib/python3.6/dist-packages/keras/backend/tensorflow_backend.py:207: The name tf.global_variables is deprecated. Please use tf.compat.v1.global_variables instead.\n",
            "\n",
            "WARNING:tensorflow:From /usr/local/lib/python3.6/dist-packages/keras/backend/tensorflow_backend.py:216: The name tf.is_variable_initialized is deprecated. Please use tf.compat.v1.is_variable_initialized instead.\n",
            "\n",
            "WARNING:tensorflow:From /usr/local/lib/python3.6/dist-packages/keras/backend/tensorflow_backend.py:223: The name tf.variables_initializer is deprecated. Please use tf.compat.v1.variables_initializer instead.\n",
            "\n"
          ],
          "name": "stdout"
        }
      ]
    },
    {
      "cell_type": "code",
      "metadata": {
        "id": "e1hci6TXCLU2",
        "colab_type": "code",
        "colab": {
          "base_uri": "https://localhost:8080/",
          "height": 34
        },
        "outputId": "223e2235-5186-44c2-b40c-7b24823e124f"
      },
      "source": [
        "print(\"[INFO] loading and pre-processing image...\")\n",
        "image = load_img(\"/content/bmw.png\", target_size=inputShape)\n",
        "image = img_to_array(image)\n",
        " \n",
        "# our input image is now represented as a NumPy array of shape\n",
        "# (inputShape[0], inputShape[1], 3) however we need to expand the\n",
        "# dimension by making the shape (1, inputShape[0], inputShape[1], 3)\n",
        "# so we can pass it through thenetwork\n",
        "image = np.expand_dims(image, axis=0)\n",
        " \n",
        "# pre-process the image using the appropriate function based on the\n",
        "# model that has been loaded (i.e., mean subtraction, scaling, etc.)\n",
        "image = preprocess(image)"
      ],
      "execution_count": 10,
      "outputs": [
        {
          "output_type": "stream",
          "text": [
            "[INFO] loading and pre-processing image...\n"
          ],
          "name": "stdout"
        }
      ]
    },
    {
      "cell_type": "code",
      "metadata": {
        "id": "YoxinlndEf0T",
        "colab_type": "code",
        "colab": {
          "base_uri": "https://localhost:8080/",
          "height": 156
        },
        "outputId": "0d4f78f8-e64f-43fb-8a1f-85c0615037e9"
      },
      "source": [
        "print(\"[INFO] classifying image with '{}'...\".format(\"vgg16\"))\n",
        "preds = model.predict(image)\n",
        "P = imagenet_utils.decode_predictions(preds)\n",
        " \n",
        "# loop over the predictions and display the rank-5 predictions +\n",
        "# probabilities to our terminal\n",
        "for (i, (imagenetID, label, prob)) in enumerate(P[0]):\n",
        "\tprint(\"{}. {}: {:.2f}%\".format(i + 1, label, prob * 100))"
      ],
      "execution_count": 11,
      "outputs": [
        {
          "output_type": "stream",
          "text": [
            "[INFO] classifying image with 'vgg16'...\n",
            "Downloading data from https://storage.googleapis.com/download.tensorflow.org/data/imagenet_class_index.json\n",
            "40960/35363 [==================================] - 0s 0us/step\n",
            "1. convertible: 98.09%\n",
            "2. sports_car: 0.63%\n",
            "3. car_wheel: 0.43%\n",
            "4. amphibian: 0.19%\n",
            "5. beach_wagon: 0.18%\n"
          ],
          "name": "stdout"
        }
      ]
    },
    {
      "cell_type": "code",
      "metadata": {
        "id": "NsuBCFpeFOo5",
        "colab_type": "code",
        "colab": {}
      },
      "source": [
        ""
      ],
      "execution_count": 0,
      "outputs": []
    }
  ]
}